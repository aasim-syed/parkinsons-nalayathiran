{
 "cells": [
  {
   "cell_type": "code",
   "execution_count": 1,
   "metadata": {
    "id": "6n0FUO4Oh4aO"
   },
   "outputs": [],
   "source": [
    "# import the necessary packages\n",
    "import skimage\n",
    "from sklearn.ensemble import RandomForestClassifier\n",
    "from sklearn.preprocessing import LabelEncoder\n",
    "from sklearn.metrics import confusion_matrix\n",
    "from skimage import feature\n",
    "from imutils import build_montages\n",
    "from imutils import paths\n",
    "import numpy as np\n",
    "import cv2\n",
    "import os\n",
    "import pickle #importing the pickle file"
   ]
  },
  {
   "cell_type": "markdown",
   "metadata": {
    "id": "ITXVWsy0naK_"
   },
   "source": [
    "# New Section"
   ]
  },
  {
   "cell_type": "code",
   "execution_count": 2,
   "metadata": {},
   "outputs": [],
   "source": [
    "def load_split(path):\n",
    "    #grab the list of images in the input directory , then initialize\n",
    "    # the list of data ( i.e. , images ) and class labels\n",
    "    imagePaths = list(paths.list_images(path))\n",
    "    data = [ ]\n",
    "    labels = [ ]\n",
    "   #loop over the image paths\n",
    "    for imagePath in imagePaths :\n",
    "        #extract the class label from the filename\n",
    "        label = imagePath.split(os.path.sep)[-2]\n",
    "       #load the input image , convert it to grayscale , and resize\n",
    "       #it to 200x200 pixels , ignoring aspect ratio\n",
    "        image = cv2.imread(imagePath)\n",
    "        image = cv2.cvtColor(image , cv2.COLOR_BGR2GRAY)\n",
    "        image = cv2.resize(image , (200 , 200))\n",
    "        #threshold the image such that the drawing appears as white\n",
    "        #on a black background\n",
    "        image = cv2.threshold(image , 0 , 255 , cv2.THRESH_BINARY_INV | cv2 . THRESH_OTSU)[ 1 ]\n",
    "        # quantify the image\n",
    "        features = quantify_image(image)\n",
    "        # update the data and labels lists , respectively\n",
    "        data.append(features)\n",
    "        labels.append(label)\n",
    "   # return the data and labels\n",
    "    return (np.array(data) , np.array(labels))"
   ]
  },
  {
   "cell_type": "code",
   "execution_count": 4,
   "metadata": {
    "id": "x2Jf7BwiigV7"
   },
   "outputs": [
    {
     "name": "stdout",
     "output_type": "stream",
     "text": [
      " [ INFO ] loading data ... \n"
     ]
    }
   ],
   "source": [
    "# define the path to the training and testing directories\n",
    "trainingPath = r\"dataset\\spiral\\training\"\n",
    "testingPath = r\"dataset\\spiral\\testing\"\n",
    "# loading the training and testing data\n",
    "print ( \" [ INFO ] loading data ... \" )\n",
    "(X_train , y_train) = load_split(trainingPath)\n",
    "(X_test , y_test) = load_split(testingPath)\n",
    "\n"
   ]
  },
  {
   "cell_type": "code",
   "execution_count": 3,
   "metadata": {},
   "outputs": [],
   "source": [
    "def quantify_image(image):\n",
    "    # compute the histogram \n",
    "    features = feature.hog(image, orientations=9,\n",
    "    pixels_per_cell=(10, 10), cells_per_block=(2, 2),\n",
    "    transform_sqrt=True, block_norm=\"L1\")\n",
    "\n",
    "    # return the feature vector\n",
    "    return features\n"
   ]
  },
  {
   "cell_type": "code",
   "execution_count": 5,
   "metadata": {},
   "outputs": [
    {
     "name": "stdout",
     "output_type": "stream",
     "text": [
      "(72, 12996) (72,)\n"
     ]
    }
   ],
   "source": [
    "# encode the labels as integers\n",
    "le = LabelEncoder()\n",
    "y_train = le.fit_transform(y_train)\n",
    "y_test = le.transform(y_test)\n",
    "print(X_train.shape,y_train.shape)"
   ]
  },
  {
   "cell_type": "code",
   "execution_count": 6,
   "metadata": {},
   "outputs": [
    {
     "name": "stdout",
     "output_type": "stream",
     "text": [
      " [ INFO ] training model \n"
     ]
    },
    {
     "data": {
      "text/plain": [
       "RandomForestClassifier()"
      ]
     },
     "execution_count": 6,
     "metadata": {},
     "output_type": "execute_result"
    }
   ],
   "source": [
    "print( \" [ INFO ] training model \" )\n",
    "model = RandomForestClassifier(n_estimators = 100 )\n",
    "model.fit(X_train , y_train)"
   ]
  },
  {
   "cell_type": "code",
   "execution_count": 7,
   "metadata": {},
   "outputs": [],
   "source": [
    "testPaths = list(paths.list_images(testingPath))\n",
    "idxs = np.arange(0 , len(testPaths))\n",
    "idxs = np.random.choice(idxs , size=(25,), replace=False)\n",
    "images = []"
   ]
  },
  {
   "cell_type": "code",
   "execution_count": 8,
   "metadata": {},
   "outputs": [],
   "source": [
    "for i in idxs:\n",
    "    image = cv2.imread(testPaths[i])\n",
    "    output = image.copy()\n",
    "    output = cv2.resize(output , (128,128))\n",
    "    image = cv2.cvtColor(image , cv2.COLOR_BGR2GRAY)\n",
    "    image = cv2.resize(image , (200,200))\n",
    "    image = cv2.threshold(image , 0 , 255,cv2.THRESH_BINARY_INV | cv2.THRESH_OTSU)[1]\n",
    "    "
   ]
  },
  {
   "cell_type": "code",
   "execution_count": 9,
   "metadata": {},
   "outputs": [],
   "source": [
    "features = quantify_image(image)\n",
    "preds = model.predict([features])\n",
    "label = le.inverse_transform(preds)[0]\n",
    "\n",
    "color = (0 , 255 , 0) if label == \"healthy\" else (0 , 0 ,255)\n",
    "\n",
    "cv2.putText(output , label , (3, 20) , cv2.FONT_HERSHEY_SIMPLEX , 0.5,color , 2)\n",
    "images.append(output)\n",
    "\n",
    "\n"
   ]
  },
  {
   "cell_type": "code",
   "execution_count": null,
   "metadata": {},
   "outputs": [],
   "source": [
    "montage = build_montages(images , (128,128) ,(5,5))[0]\n",
    "cv2.imshow(\"OUTPUT\",montage)\n",
    "cv2.waitKey(0)"
   ]
  },
  {
   "cell_type": "code",
   "execution_count": 10,
   "metadata": {},
   "outputs": [
    {
     "name": "stdout",
     "output_type": "stream",
     "text": [
      "[13  2  5 10]\n",
      "0.7666666666666667\n"
     ]
    }
   ],
   "source": [
    "predictions = model.predict(X_test)\n",
    "\n",
    "cm = confusion_matrix(y_test , predictions).flatten()\n",
    "print(cm)\n",
    "\n",
    "(tn , fp , fn , tp) = cm\n",
    "\n",
    "accuracy  = (tp + tn) / float(cm.sum())\n",
    "\n",
    "print(accuracy)\n",
    "\n"
   ]
  },
  {
   "cell_type": "code",
   "execution_count": 11,
   "metadata": {},
   "outputs": [],
   "source": [
    "pickle.dump(model , open('parkinsons.pkl','wb'))"
   ]
  },
  {
   "cell_type": "code",
   "execution_count": 9,
   "metadata": {},
   "outputs": [
    {
     "name": "stderr",
     "output_type": "stream",
     "text": [
      "usage: ipykernel_launcher.py [-h] -d DATASET [-t TRIALS]\n",
      "ipykernel_launcher.py: error: the following arguments are required: -d/--dataset\n"
     ]
    },
    {
     "ename": "SystemExit",
     "evalue": "2",
     "output_type": "error",
     "traceback": [
      "An exception has occurred, use %tb to see the full traceback.\n",
      "\u001b[1;31mSystemExit\u001b[0m\u001b[1;31m:\u001b[0m 2\n"
     ]
    },
    {
     "name": "stderr",
     "output_type": "stream",
     "text": [
      "C:\\Users\\aasim\\anaconda3\\lib\\site-packages\\IPython\\core\\interactiveshell.py:3377: UserWarning: To exit: use 'exit', 'quit', or Ctrl-D.\n",
      "  warn(\"To exit: use 'exit', 'quit', or Ctrl-D.\", stacklevel=1)\n"
     ]
    }
   ],
   "source": [
    "# import numpy as np\n",
    "# import cv2\n",
    "# import os\n",
    "# import argparse\n",
    "# from sklearn.ensemble import RandomForestClassifier\n",
    "# from sklearn.preprocessing import LabelEncoder\n",
    "# from sklearn.metrics import confusion_matrix\n",
    "# from skimage import feature\n",
    "# from imutils import build_montages\n",
    "# from imutils import paths\n",
    "\n",
    "\n",
    "\n",
    "# def load_split(path):\n",
    "#     imagePaths = list(paths.list_images(path))\n",
    "#     data = []\n",
    "#     labels = []\n",
    "\n",
    "#     for imagePath in imagePaths:\n",
    "#     # extract the class label from the filename\n",
    "#     label = imagePath.split(os.path.sep)[-2]\n",
    "\n",
    "#     image = cv2.imread(imagePath)\n",
    "#     image = cv2.cvtColor(image, cv2.COLOR_BGR2GRAY)\n",
    "#     image = cv2.resize(image, (200, 200))\n",
    "\n",
    "#     image = cv2.threshold(image, 0, 255, cv2.THRESH_BINARY_INV | cv2.THRESH_OTSU)[1]\n",
    "\n",
    "#     features = quantify_image(image)\n",
    "\n",
    "#     # update the data and labels lists\n",
    "#     data.append(features)\n",
    "#     labels.append(label)\n",
    "\n",
    "#     return (np.array(data), np.array(labels))\n",
    "\n",
    "# # argument parser \n",
    "# ap = argparse.ArgumentParser()\n",
    "# ap.add_argument(\"-d\", \"--dataset\", required=True,help=\"path to input dataset\")\n",
    "# ap.add_argument(\"-t\", \"--trials\", type=int, default=5,help=\"# of trials to run\")\n",
    "# args = vars(ap.parse_args())\n",
    "\n",
    "# trainingPath = os.path.sep.join([args[\"dataset\"], \"training\"])\n",
    "# testingPath = os.path.sep.join([args[\"dataset\"], \"testing\"])\n",
    "\n",
    "# print(\"loading data...\")\n",
    "# (trainX, trainY) = load_split(trainingPath)\n",
    "# (testX, testY) = load_split(testingPath)\n",
    "\n",
    "# le = LabelEncoder()\n",
    "# trainY = le.fit_transform(trainY)\n",
    "# testY = le.transform(testY)\n",
    "\n",
    "# trials = {}\n",
    "\n",
    "# for i in range(0, args[\"trials\"]):\n",
    "#     # training\n",
    "#     print(\"training model {} of {}...\".format(i + 1,\n",
    "#     args[\"trials\"]))\n",
    "#     model = RandomForestClassifier(n_estimators=100)\n",
    "#     model.fit(trainX, trainY)\n",
    "\n",
    "#     predictions = model.predict(testX)\n",
    "#     metrics = {}\n",
    "\n",
    "#     cm = confusion_matrix(testY, predictions).flatten()\n",
    "#     (tn, fp, fn, tp) = cm\n",
    "#     metrics[\"acc\"] = (tp + tn) / float(cm.sum())\n",
    "#     metrics[\"sensitivity\"] = tp / float(tp + fn)\n",
    "#     metrics[\"specificity\"] = tn / float(tn + fp)\n",
    "\n",
    "# \tfor (k, v) in metrics.items():\n",
    "# \t\tl = trials.get(k, [])\n",
    "# \t\tl.append(v)\n",
    "# \t\ttrials[k] = l\n",
    "\n",
    "# for metric in (\"acc\", \"sensitivity\", \"specificity\"):\n",
    "# \tvalues = trials[metric]\n",
    "# \tmean = np.mean(values)\n",
    "# \tstd = np.std(values)\n",
    "\n",
    "# \t# computed metrics for the statistic\n",
    "# \tprint(metric)\n",
    "# \tprint(\"=\" * len(metric))\n",
    "# \tprint(\"u={:.4f}, o={:.4f}\".format(mean, std))\n",
    "# \tprint(\"\")\n",
    "\n",
    "# testingPaths = list(paths.list_images(testingPath))\n",
    "# idxs = np.arange(0, len(testingPaths))\n",
    "# idxs = np.random.choice(idxs, size=(25,), replace=False)\n",
    "# images = []\n",
    "\n",
    "# # loop over the testing samples\n",
    "# for i in idxs:\n",
    "# \timage = cv2.imread(testingPaths[i])\n",
    "# \toutput = image.copy()\n",
    "# \toutput = cv2.resize(output, (128, 128))\n",
    "\n",
    "# \timage = cv2.cvtColor(image, cv2.COLOR_BGR2GRAY)\n",
    "# \timage = cv2.resize(image, (200, 200))\n",
    "# \timage = cv2.threshold(image, 0, 255,\n",
    "# \t\tcv2.THRESH_BINARY_INV | cv2.THRESH_OTSU)[1]\n",
    "\n",
    "# \tfeatures = quantify_image(image)\n",
    "# \tpreds = model.predict([features])\n",
    "# \tlabel = le.inverse_transform(preds)[0]\n",
    "\n",
    "# \tcolor = (0, 255, 0) if label == \"healthy\" else (0, 0, 255)\n",
    "# \tcv2.putText(output, label, (3, 20), cv2.FONT_HERSHEY_SIMPLEX, 0.5,\n",
    "# \t\tcolor, 2)\n",
    "# \timages.append(output)\n",
    "\n",
    "# montage = build_montages(images, (128, 128), (5, 5))[0]\n",
    "\n",
    "# cv2.imshow(\"Output\", montage)\n",
    "# cv2.waitKey(0)"
   ]
  },
  {
   "cell_type": "code",
   "execution_count": null,
   "metadata": {},
   "outputs": [],
   "source": []
  },
  {
   "cell_type": "code",
   "execution_count": null,
   "metadata": {},
   "outputs": [],
   "source": []
  }
 ],
 "metadata": {
  "colab": {
   "collapsed_sections": [],
   "provenance": []
  },
  "kernelspec": {
   "display_name": "Python 3 (ipykernel)",
   "language": "python",
   "name": "python3"
  },
  "language_info": {
   "codemirror_mode": {
    "name": "ipython",
    "version": 3
   },
   "file_extension": ".py",
   "mimetype": "text/x-python",
   "name": "python",
   "nbconvert_exporter": "python",
   "pygments_lexer": "ipython3",
   "version": "3.9.12"
  },
  "vscode": {
   "interpreter": {
    "hash": "f0b48d3c2468a75c8c704a0af786d83f791618650a770f38087e4f4843a5e2ec"
   }
  }
 },
 "nbformat": 4,
 "nbformat_minor": 1
}
